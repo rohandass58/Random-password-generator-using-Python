{
 "cells": [
  {
   "cell_type": "code",
   "execution_count": 41,
   "metadata": {},
   "outputs": [],
   "source": [
    "from msilib.schema import CheckBox\n",
    "import random\n",
    "from tkinter import *\n",
    "import string\n",
    "import tkinter \n",
    "\n",
    "window = Tk()\n",
    "window.title('Password Generator')\n",
    "window.geometry('500x500')\n",
    "\n",
    "Label(window,font=('bold',10),text='PASSWORD GENERATOR').pack()\n",
    "\n",
    "len1=tkinter.IntVar()\n",
    "\n",
    "\n",
    "def password_generate(leng):\n",
    "    valid_char='abcdefghijklmnopqrstuvwxyzABCDEFGHIJKLMNOPQRSTUVWXYZ0123456789@_'\n",
    "    password=''.join(random.sample(valid_char,leng))\n",
    "    l = Label(window, text = password, font=('bold', 20)) \n",
    "    l.place(x=180,y=50)\n",
    "\n",
    "def get_len():\n",
    "    if len1.get() == 8:\n",
    "        password_generate(8)\n",
    "    elif len1.get() == 10:\n",
    "        password_generate(10)\n",
    "    elif len1.get() == 12:\n",
    "        password_generate(12)\n",
    "    else:\n",
    "        password_generate(6)    \n",
    "\n",
    "Button(window,text='Generate',font=('normal',10), bg='yellow',command=get_len).place(x=200,y=100)\n",
    "Radiobutton(text='Weak', value=8, variable=len1).place(x=200,y=150)\n",
    "Radiobutton(text='Medium',value=10, variable=len1).place(x=200,y=170)\n",
    "Radiobutton(text='Strong',value=12, variable=len1).place(x=200,y=190)\n",
    "\n",
    "window.mainloop()"
   ]
  },
  {
   "cell_type": "code",
   "execution_count": 36,
   "metadata": {},
   "outputs": [],
   "source": []
  },
  {
   "cell_type": "code",
   "execution_count": null,
   "metadata": {},
   "outputs": [],
   "source": []
  }
 ],
 "metadata": {
  "kernelspec": {
   "display_name": "Python 3",
   "language": "python",
   "name": "python3"
  },
  "language_info": {
   "codemirror_mode": {
    "name": "ipython",
    "version": 3
   },
   "file_extension": ".py",
   "mimetype": "text/x-python",
   "name": "python",
   "nbconvert_exporter": "python",
   "pygments_lexer": "ipython3",
   "version": "3.7.6"
  }
 },
 "nbformat": 4,
 "nbformat_minor": 4
}
